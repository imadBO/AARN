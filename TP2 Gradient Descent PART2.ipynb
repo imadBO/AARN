{
 "cells": [
  {
   "cell_type": "markdown",
   "metadata": {},
   "source": [
    "# TP 2 Descente du Gradient\n",
    "Dans ce TP, nous aimerions prédire le chiffre d'affaire d'une entreprise dans plusieurs ville en nous basant sur les habitant de cette ville.\n",
    "\n",
    "Pour ce faire, nous étudierons un ensemble de données avec le chiffre d'affaire (y) et les caractéristiques des habitants (X).\n",
    "\n",
    "La prédiction se fera avec l'agorithme de descente du gradient."
   ]
  },
  {
   "cell_type": "markdown",
   "metadata": {},
   "source": [
    "# Importation des librairies necessaires au travail"
   ]
  },
  {
   "cell_type": "code",
   "execution_count": 646,
   "metadata": {},
   "outputs": [],
   "source": [
    "import numpy as np\n",
    "import matplotlib.pyplot as plt\n",
    "from mpl_toolkits import mplot3d\n",
    "from matplotlib import cm\n"
   ]
  },
  {
   "cell_type": "markdown",
   "metadata": {},
   "source": [
    "# Lecture des fichiers de données\n",
    "Pour ce TP, nous allons lire les données à partir d'un fichier csv."
   ]
  },
  {
   "cell_type": "code",
   "execution_count": 647,
   "metadata": {},
   "outputs": [
    {
     "data": {
      "text/plain": [
       "(97, 2)"
      ]
     },
     "execution_count": 647,
     "metadata": {},
     "output_type": "execute_result"
    }
   ],
   "source": [
    "# données\n",
    "data = np.genfromtxt('data.csv', delimiter=',', dtype=float)\n",
    "# data = data.astype(int)\n",
    "data.shape"
   ]
  },
  {
   "cell_type": "markdown",
   "metadata": {},
   "source": [
    "Dans ces données (data), la première colonne represente la première caractéristique (la population d'une ville x1000), la deuxieme colonne represente le chiffre d'affaires (x1000).\n",
    "\n",
    "Chaque ligne represente un exemple de notre ensemble de données. \n",
    "\n",
    "Mettons ces données dans leus vecteurs correspondants."
   ]
  },
  {
   "cell_type": "code",
   "execution_count": 648,
   "metadata": {},
   "outputs": [],
   "source": [
    "# rajoutons l'ordonnée à l'origine theta 0\n",
    "intercept=np.ones((data.shape[0],1))\n",
    "X=np.column_stack((intercept,data[:,0]))\n",
    "y = data[:, 1];"
   ]
  },
  {
   "cell_type": "code",
   "execution_count": 649,
   "metadata": {},
   "outputs": [
    {
     "data": {
      "text/plain": [
       "Text(0, 0.5, \"Chiffre d'affaires x1000\")"
      ]
     },
     "execution_count": 649,
     "metadata": {},
     "output_type": "execute_result"
    },
    {
     "data": {
      "image/png": "[encoded data removed]",
      "text/plain": [
       "<Figure size 432x288 with 1 Axes>"
      ]
     },
     "metadata": {
      "needs_background": "light"
     },
     "output_type": "display_data"
    }
   ],
   "source": [
    "# traçons ces données pour visualisation\n",
    "plt.scatter(X[:,1],y,marker ='x')\n",
    "plt.xlabel('Population x 1000')\n",
    "plt.ylabel('Chiffre d\\'affaires x1000')"
   ]
  },
  {
   "cell_type": "markdown",
   "metadata": {},
   "source": [
    "# Descente du Gradient : Préparation des fonctions"
   ]
  },
  {
   "cell_type": "markdown",
   "metadata": {},
   "source": [
    "1- Calcul du coût\n",
    "\n",
    "Cette fonction servira à calculer le cout $J(\\theta_0,\\theta_1)$\n",
    "\n",
    "Elle prendra l'ensemble de données d'apprentissage en entrée ainsi que les paramètres définis initialement"
   ]
  },
  {
   "cell_type": "code",
   "execution_count": 650,
   "metadata": {},
   "outputs": [],
   "source": [
    "def computeCostNonVect(X, y, theta):\n",
    "    # To calculate the cost we have to the response of the model for each data point with the given theta values and\n",
    "    # the sum of the squared differences (Squared Residuals) that will be used later on to compute the cost:\n",
    "    # Model function : F(X) = theta_0 + theta_1 * X.\n",
    "    # Sum of Squared differences : sum (theta_0 + theta_1*Xi - Yi) ** 2 where i = 1 ... m.\n",
    "    \n",
    "    f_x = np.array([], dtype=float) # An array which is going to contain the responses of the model.\n",
    "    j_theta = 0 # This variable is used to store the cost of the model.\n",
    "\n",
    "    # To cycle through the data points and calculate the responses of the model.\n",
    "    for i in range(0, X.shape[0]):\n",
    "        response = theta[0] + X[i,1] * theta[1] # F(X) = theta_0 + theta_1 * X.\n",
    "        # To save all of the responses of the model with current theta values, it will be used later on to compute the gradient of the cost function.\n",
    "        f_x = np.append(f_x,response) \n",
    "        # the sum of the squared differences (Residuals).\n",
    "        j_theta = j_theta + (response - y[i]) ** 2\n",
    "\n",
    "    j_theta = j_theta / (2 * f_x.shape[0]) # The cost of the model with the current theta values.\n",
    "    \n",
    "    return j_theta , f_x # Return the cost and the responses of the model which will be used later on to calculate the gradient of the cost function.\n",
    "\n"
   ]
  },
  {
   "cell_type": "code",
   "execution_count": 651,
   "metadata": {},
   "outputs": [],
   "source": [
    "\n",
    "def computeCost(X, y, theta):\n",
    "    # To calculate the response of the model for each data point with the given theta values:\n",
    "    # F(X) = theta_0 + theta_1 * X which can be calculated using the product of X and theta traspose and then sum up the two columns of the product.\n",
    "    f_x = theta.transpose() * X # First we have to calculate the product of the theta transpose and X.\n",
    "    f_x = f_x[:,0]+f_x[:,1] # Secondly we have to sum up the two columns of the above product to get all of the model's responses  at once.\n",
    "\n",
    "    # To calculate the cost of the model with the given theta values : \n",
    "    # J(theta) = (1/2m) * sum (theta_0 + theta_1*Xi - Yi) ** 2 where i = 1 ... m.\n",
    "    j_theta = np.sum((f_x - y) ** 2) / (2 * f_x.shape[0])\n",
    "    \n",
    "    return j_theta , f_x # Return the cost and the responses of the model which will be used later on to calculate the gradient of the cost function."
   ]
  },
  {
   "cell_type": "markdown",
   "metadata": {},
   "source": [
    "2- Fonction de la descente du gradient\n",
    "\n",
    "Cette fonction mettra à jour les paramètres $\\theta_0,\\theta_1$ jusqu'à convergence: atteinte du nombre d'itérations max, ou dérivée assez petite."
   ]
  },
  {
   "cell_type": "code",
   "execution_count": 652,
   "metadata": {},
   "outputs": [],
   "source": [
    "def costGradient(X,y,f_x):\n",
    "    \n",
    "    # This function is used to calculate the calculate the partial derivatives of the cost function (gradient with respect to theta_0 and theta_1).\n",
    "    # Theta_0 gradient = (1/m) * sum(F(Xi)-Yi) where m is the number of examples and i = 1 ... m.\n",
    "    # Theta_1 gradient = (1/m) * sum((F(Xi)-Yi) * Xi) where m is the number of examples and i = 1 ... m.\n",
    "    diff = f_x - y # F(Xi)-Yi => model_responses - target_values : the errors of the model (residuals).\n",
    "    \n",
    "    # Cost Gradient with respect to theta_0:\n",
    "    gTheta_0 = np.sum(diff) / X.shape[0] # Theta_0 gradient = (1/m) * sum(F(Xi)-Yi)\n",
    "    \n",
    "    # Cost Gradient with respect to theta_1:\n",
    "    temp = np.array([diff[i] * X[i,1] for i in range(0,X.shape[0])], dtype=float) # (F(Xi)-Yi) * Xi.\n",
    "    gTheta_1 = np.sum(temp) / X.shape[0] # Theta_1 gradient = (1/m) * sum((F(Xi)-Yi) * Xi).\n",
    "\n",
    "    return (gTheta_0, gTheta_1) # Return the cost gradient which will be used to optimize the theta values.\n",
    "\n",
    "\n",
    "\n",
    "\n",
    "\n",
    "\n",
    "def gradientDescent(X, y, theta, alpha, iterations):\n",
    "    # The gradient descent is used to optimize theta values (model parameters \"intercept and slope\").\n",
    "    \n",
    "    costs = np.array([]) # An array which is going to be used to contain the costs.\n",
    "    theta0 = np.array([]) # An array which is going to be used to contain theta0 values.\n",
    "    theta1 = np.array([]) # An array which is going to be used to contain theta1 values.\n",
    "\n",
    "    # To repeat the steps of gradient descent algorithm until we reach the maximum number of iterations or ....\n",
    "    for i in range(0,iterations):\n",
    "        # To compute the cost and the responses of the model with the current theta values.\n",
    "        cost, f_x =computeCost(X, y, theta)\n",
    "        # To save the cost of the current model with its parameters (theta0 and theta1).\n",
    "        costs = np.append(costs,cost)\n",
    "        theta0 = np.append(theta0,theta[0])\n",
    "        theta1 = np.append(theta1,theta[1])\n",
    "        # To calculate the gradient of the cost function with of the current model.\n",
    "        cost_gradient = costGradient(X,y,f_x)\n",
    "        # To calculate the new theta values ( optimized parameters ).\n",
    "        theta[0] = theta[0] - alpha * cost_gradient[0]\n",
    "        theta[1] = theta[1] - alpha * cost_gradient[1]\n",
    "    costs=np.column_stack((theta0,theta1,costs)) # To stack the costs and theta values alongside in one array.\n",
    "    return (theta, costs) # To return the parameters of the model which fits better the dataset and the costs of the different models.\n"
   ]
  },
  {
   "cell_type": "markdown",
   "metadata": {},
   "source": [
    "# Descente du Gradient : Appel des fonctions"
   ]
  },
  {
   "cell_type": "markdown",
   "metadata": {},
   "source": [
    "Initialisation de $\\theta_0$ et $\\theta_1$"
   ]
  },
  {
   "cell_type": "code",
   "execution_count": 653,
   "metadata": {},
   "outputs": [],
   "source": [
    "theta = np.zeros((2, 1),dtype=float)"
   ]
  },
  {
   "cell_type": "markdown",
   "metadata": {},
   "source": [
    "Calculer le cout initial"
   ]
  },
  {
   "cell_type": "code",
   "execution_count": 654,
   "metadata": {},
   "outputs": [
    {
     "data": {
      "text/plain": [
       "32.072733877455676"
      ]
     },
     "execution_count": 654,
     "metadata": {},
     "output_type": "execute_result"
    }
   ],
   "source": [
    "initialCost, f_x=computeCost(X, y, theta)\n",
    "initialCost"
   ]
  },
  {
   "cell_type": "markdown",
   "metadata": {},
   "source": [
    "Appel des la fonction de calcul du gradient"
   ]
  },
  {
   "cell_type": "code",
   "execution_count": 655,
   "metadata": {},
   "outputs": [
    {
     "data": {
      "text/plain": [
       "array([[ 0.        ,  0.        , 32.07273388],\n",
       "       [ 0.05839135,  0.6532885 ,  6.73719046],\n",
       "       [ 0.06289175,  0.77000978,  5.93159357],\n",
       "       ...,\n",
       "       [-3.62885054,  1.1662176 ,  4.4834581 ],\n",
       "       [-3.6293317 ,  1.16626593,  4.48343473],\n",
       "       [-3.62981201,  1.16631419,  4.48341145]])"
      ]
     },
     "execution_count": 655,
     "metadata": {},
     "output_type": "execute_result"
    }
   ],
   "source": [
    "# paramètres\n",
    "iterations = 1500;\n",
    "alpha = 0.01;\n",
    "# Appel\n",
    "theta, costs = gradientDescent(X, y, theta, alpha, iterations);\n",
    "costs\n"
   ]
  },
  {
   "cell_type": "markdown",
   "metadata": {},
   "source": [
    "Traçage de la fonction du coût"
   ]
  },
  {
   "cell_type": "markdown",
   "metadata": {},
   "source": [
    "Notons que $\\theta^T  x$ est équivalent à $X  \\theta $ où $X= \\begin{pmatrix}\n",
    "..(x^{(1)})^T..\\\\\n",
    "..(x^{(2)})^T..\\\\\n",
    ".\\\\\n",
    ".\\\\\n",
    ".\\\\\n",
    "..(x^{(m)})^T..\n",
    "\\end{pmatrix} $"
   ]
  },
  {
   "cell_type": "code",
   "execution_count": 656,
   "metadata": {},
   "outputs": [
    {
     "data": {
      "text/plain": [
       "[<matplotlib.lines.Line2D at 0x269e6b986a0>,\n",
       " <matplotlib.lines.Line2D at 0x269e6b98760>]"
      ]
     },
     "execution_count": 656,
     "metadata": {},
     "output_type": "execute_result"
    },
    {
     "data": {
      "image/png": "[encoded data removed]",
      "text/plain": [
       "<Figure size 432x288 with 1 Axes>"
      ]
     },
     "metadata": {
      "needs_background": "light"
     },
     "output_type": "display_data"
    }
   ],
   "source": [
    "y_pred=np.matmul(X,theta)\n",
    "\n",
    "plt.scatter(X[:,1],y,marker ='x')\n",
    "plt.xlabel('Population x 1000')\n",
    "plt.ylabel('Chiffre d\\'affaires x1000')\n",
    "plt.plot(X,y_pred)\n",
    "# la ligne du graphe represente le traçage de la fonction hypothèse\n",
    "# la ligne devrait se rapprocher des données après entrainement avec la descente du gredient"
   ]
  },
  {
   "cell_type": "markdown",
   "metadata": {},
   "source": [
    "Traçage du coût en fonction de theta0 et theta1"
   ]
  },
  {
   "cell_type": "code",
   "execution_count": 657,
   "metadata": {},
   "outputs": [
    {
     "data": {
      "text/plain": [
       "<matplotlib.legend.Legend at 0x269e6be6fd0>"
      ]
     },
     "execution_count": 657,
     "metadata": {},
     "output_type": "execute_result"
    },
    {
     "data": {
      "image/png": "[encoded data removed]",
      "text/plain": [
       "<Figure size 432x288 with 1 Axes>"
      ]
     },
     "metadata": {
      "needs_background": "light"
     },
     "output_type": "display_data"
    }
   ],
   "source": [
    "# Cost depending on theta 0.\n",
    "plt.plot(costs[:,0], costs[:,2], linestyle='--',color='orange', label='cost depending on theta 0')\n",
    "plt.title('Cost depending on theta')\n",
    "plt.xlabel('Theta')\n",
    "plt.ylabel('Cost')\n",
    "plt.legend(loc='best')"
   ]
  },
  {
   "cell_type": "code",
   "execution_count": 658,
   "metadata": {},
   "outputs": [
    {
     "data": {
      "text/plain": [
       "<matplotlib.legend.Legend at 0x269e6c3af70>"
      ]
     },
     "execution_count": 658,
     "metadata": {},
     "output_type": "execute_result"
    },
    {
     "data": {
      "image/png": "[encoded data removed]",
      "text/plain": [
       "<Figure size 432x288 with 1 Axes>"
      ]
     },
     "metadata": {
      "needs_background": "light"
     },
     "output_type": "display_data"
    }
   ],
   "source": [
    "# Cost depending on theta 1\n",
    "plt.plot(costs[:,1], costs[:,2], linestyle='--',color='green', label='cost depending on theta 1')\n",
    "plt.title('Cost depending on theta')\n",
    "plt.xlabel('Theta')\n",
    "plt.ylabel('Cost')\n",
    "plt.legend(loc='best')"
   ]
  },
  {
   "cell_type": "code",
   "execution_count": 659,
   "metadata": {},
   "outputs": [
    {
     "data": {
      "image/png": "[encoded data removed]",
      "text/plain": [
       "<Figure size 432x288 with 1 Axes>"
      ]
     },
     "metadata": {
      "needs_background": "light"
     },
     "output_type": "display_data"
    }
   ],
   "source": [
    "# Cost depending on theta0 and theta 1 ( 3D plot I don't know if it's correct or not ).\n",
    "ax = plt.axes(projection='3d')\n",
    "d2 = np.ones(costs.shape[0]) * 5\n",
    "x1 = np.column_stack((costs[:,1],d2))\n",
    "x2 = np.column_stack((costs[:,0],d2))\n",
    "x3 = np.column_stack((costs[:,2],costs[:,2]))\n",
    "ax.plot_surface(x1, x2, x3, rstride=20, cstride=20,cmap='viridis')\n",
    "ax.set_title('surface');"
   ]
  },
  {
   "cell_type": "markdown",
   "metadata": {},
   "source": [
    "Prédire des valeurs de x"
   ]
  },
  {
   "cell_type": "code",
   "execution_count": 660,
   "metadata": {},
   "outputs": [
    {
     "data": {
      "text/plain": [
       "array([0.45197679])"
      ]
     },
     "execution_count": 660,
     "metadata": {},
     "output_type": "execute_result"
    }
   ],
   "source": [
    "# Predire pour une opulation = 35,000 et 70,000\n",
    "predict1 = np.matmul([1, 3.5],theta);\n",
    "predict1"
   ]
  },
  {
   "cell_type": "code",
   "execution_count": 661,
   "metadata": {},
   "outputs": [
    {
     "data": {
      "text/plain": [
       "array([4.53424501])"
      ]
     },
     "execution_count": 661,
     "metadata": {},
     "output_type": "execute_result"
    }
   ],
   "source": [
    "predict2 = np.matmul([1, 7],theta);\n",
    "predict2"
   ]
  },
  {
   "cell_type": "markdown",
   "metadata": {},
   "source": [
    "# Régression linéaire à plusieurs variables"
   ]
  },
  {
   "cell_type": "markdown",
   "metadata": {},
   "source": [
    "Proposer, l'aide des fonctions définies precedemment, une regression linéaire lorsque le nombre de descripeurs est supérieur à 1, en utilisant la base d'apprentissage suivante"
   ]
  },
  {
   "cell_type": "code",
   "execution_count": 662,
   "metadata": {},
   "outputs": [
    {
     "data": {
      "text/plain": [
       "(47, 3)"
      ]
     },
     "execution_count": 662,
     "metadata": {},
     "output_type": "execute_result"
    }
   ],
   "source": [
    "# données\n",
    "dataMulti = np.genfromtxt('dataMulti.csv', delimiter=',', dtype=int)\n",
    "dataMulti.shape"
   ]
  },
  {
   "cell_type": "markdown",
   "metadata": {},
   "source": [
    "Pour cette ensemble de données, nous voudrions prédire le prix d'une maison (3ème colonne de dataMulti) à partir de :\n",
    "- sa supérficie (1ère colonne)\n",
    "- son nombre de chambres (2ème colonne)"
   ]
  },
  {
   "cell_type": "code",
   "execution_count": 663,
   "metadata": {},
   "outputs": [],
   "source": [
    "# d'abord créer X et y\n",
    "intercept=np.ones((dataMulti.shape[0],1))\n",
    "X=dataMulti[:,:2]\n",
    "\n",
    "y = dataMulti[:, 2];"
   ]
  },
  {
   "cell_type": "code",
   "execution_count": 664,
   "metadata": {},
   "outputs": [
    {
     "name": "stdout",
     "output_type": "stream",
     "text": [
      "134982741767.67493\n"
     ]
    }
   ],
   "source": [
    "# redéfinissez vos fonctions de coût si cela est necessaire\n",
    "def cost_multivar(X, y, theta):\n",
    "    total_cost =0\n",
    "    for i in range(X.shape[0]):\n",
    "\n",
    "        total_cost += (1/X.shape[0])*((X[i]*theta).sum() -y[i])**2\n",
    "        \n",
    "    return total_cost\n",
    "d = cost_multivar(X,y,theta)\n",
    "print(d)"
   ]
  },
  {
   "cell_type": "markdown",
   "metadata": {},
   "source": [
    "Mise à l'échelle des données"
   ]
  },
  {
   "cell_type": "code",
   "execution_count": null,
   "metadata": {},
   "outputs": [],
   "source": []
  },
  {
   "cell_type": "markdown",
   "metadata": {},
   "source": [
    "Normalisation des données en moyenne = 0"
   ]
  },
  {
   "cell_type": "code",
   "execution_count": 674,
   "metadata": {},
   "outputs": [],
   "source": [
    "from sklearn.preprocessing import StandardScaler\n",
    "sc=StandardScaler()\n",
    "x = sc.fit_transform(X)"
   ]
  },
  {
   "cell_type": "markdown",
   "metadata": {},
   "source": [
    "Appliquer la descente du gradient à plusieurs variables"
   ]
  },
  {
   "cell_type": "code",
   "execution_count": 675,
   "metadata": {},
   "outputs": [
    {
     "name": "stdout",
     "output_type": "stream",
     "text": [
      "theta0 and theta1: 334202.8115292573 [99376.9357829   3293.89181163]\n"
     ]
    },
    {
     "data": {
      "image/png": "[encoded data removed]",
      "text/plain": [
       "<Figure size 432x288 with 1 Axes>"
      ]
     },
     "metadata": {
      "needs_background": "light"
     },
     "output_type": "display_data"
    }
   ],
   "source": [
    "\n",
    "\n",
    "def loss(y,y_predicted): #sum of squared risiduals\n",
    "    n=len(y)\n",
    "    s=0\n",
    "    for i in range(n):\n",
    "        s+=(y[i]-y_predicted[i])**2\n",
    "    return (1/n)*s\n",
    "\n",
    "\n",
    "    \n",
    "\n",
    "def predicted_y(weight,x,intercept): #AKA the point on the line\n",
    "    y_lst=[]\n",
    "    for i in range(len(x)):\n",
    "        y_lst.append(weight@x[i]+intercept) #dot product btween theta1 and input\n",
    "    \n",
    "    return np.array(y_lst)\n",
    "\n",
    "\n",
    "\n",
    "\n",
    "def dldw(x,y,y_predicted): #derivative of Theta1 (the slope)\n",
    "    s=0\n",
    "    n=len(y)\n",
    "    for i in range(n):\n",
    "        s+=-x[i]*(y[i]-y_predicted[i])\n",
    "    return (2/n)*s\n",
    "\n",
    "\n",
    "\n",
    "\n",
    "def dldb(y,y_predicted):\n",
    "    n=len(y)\n",
    "    s=0\n",
    "    for i in range(len(y)):\n",
    "        s+=-(y[i]-y_predicted[i])\n",
    "    return (2/n) * s\n",
    "\n",
    "    \n",
    "\n",
    "def gradient_descent(x,y):\n",
    "    weight_vector=np.random.randn(x.shape[1]) #slope\n",
    "    intercept=0\n",
    "    iterations = 2000\n",
    "    n = len(x)\n",
    "    linear_loss=[]\n",
    "    learning_rate = 0.001\n",
    "\n",
    "    for i in range(iterations):\n",
    "        \n",
    "        \n",
    "        y_predicted = predicted_y(weight_vector,x,intercept)\n",
    "        \n",
    "        weight_vector = weight_vector - learning_rate *dldw(x,y,y_predicted) # dldw is the derivative with respect to theta1 SLOPE\n",
    "        #print(weight_vector)\n",
    "        \n",
    "        \n",
    "        intercept = intercept - learning_rate * dldb(y,y_predicted) # dldb is the derivative with respect to theta0 INTERCEPT\n",
    "        linear_loss.append(loss(y,y_predicted)) # SUM OF SQUARED RISIDUALS\n",
    "        \n",
    "    plt.plot(np.arange(1,iterations),linear_loss[1:])\n",
    "    plt.xlabel(\"number of iterations\")\n",
    "    plt.ylabel(\"loss\")\n",
    "    \n",
    "    return weight_vector,intercept\n",
    "theta1, theta0 = gradient_descent(x,y)\n",
    "print(\"theta0 and theta1:\",theta0, theta1)"
   ]
  },
  {
   "cell_type": "markdown",
   "metadata": {},
   "source": [
    "Comparer la descente du gradient avec et sans normalisation\n",
    "- **Exemple**: voir la difference dans le temps de calcul"
   ]
  },
  {
   "cell_type": "code",
   "execution_count": null,
   "metadata": {},
   "outputs": [],
   "source": []
  },
  {
   "cell_type": "markdown",
   "metadata": {},
   "source": [
    "# Renforcement d'apprentissage\n",
    "Mettre ici toute idée qui pourrait renforcer votre apprentissage"
   ]
  },
  {
   "cell_type": "code",
   "execution_count": null,
   "metadata": {},
   "outputs": [],
   "source": []
  },
  {
   "cell_type": "markdown",
   "metadata": {},
   "source": [
    "# Consignes"
   ]
  },
  {
   "cell_type": "markdown",
   "metadata": {},
   "source": [
    "Le travail est à remettre par groupe de 4 au maximum [1..4].\n",
    "\n",
    "Le délai est le vendredi 18 Mars 2022 à 22h\n"
   ]
  },
  {
   "cell_type": "code",
   "execution_count": 667,
   "metadata": {},
   "outputs": [],
   "source": [
    "# bonne chance"
   ]
  }
 ],
 "metadata": {
  "kernelspec": {
   "display_name": "Python 3",
   "language": "python",
   "name": "python3"
  },
  "language_info": {
   "codemirror_mode": {
    "name": "ipython",
    "version": 3
   },
   "file_extension": ".py",
   "mimetype": "text/x-python",
   "name": "python",
   "nbconvert_exporter": "python",
   "pygments_lexer": "ipython3",
   "version": "3.8.8"
  }
 },
 "nbformat": 4,
 "nbformat_minor": 2
}
